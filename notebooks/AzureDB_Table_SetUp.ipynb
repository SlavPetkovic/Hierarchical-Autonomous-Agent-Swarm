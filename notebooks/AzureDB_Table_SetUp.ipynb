{
 "cells": [
  {
   "cell_type": "code",
   "execution_count": 4,
   "outputs": [],
   "source": [
    "# Import Dependencies\n",
    "from lib.ConnectorDB import DBConnection\n",
    "from pandasai import SmartDataframe\n",
    "from pandasai.llm import OpenAI\n",
    "from pandasai.connectors import SQLConnector\n",
    "from pandasai import SmartDatalake\n",
    "import logging.config\n",
    "import logging.handlers\n",
    "import json\n",
    "import pandas as pd\n",
    "\n",
    "# Configure logging\n",
    "logging.config.fileConfig('../parameters/logs.ini', disable_existing_loggers=False)\n",
    "logger = logging.getLogger(__name__)\n",
    "logging.getLogger(\"paramiko\").setLevel(logging.WARNING)\n",
    "\n",
    "# Read data from excel\n",
    "Customers = pd.read_excel (\"../data/OrdersLineItemsDummyData.xlsx\", sheet_name='Customers')\n",
    "Orders = pd.read_excel (\"../data/OrdersLineItemsDummyData.xlsx\", sheet_name='Orders')\n",
    "LineItems = pd.read_excel (\"../data/OrdersLineItemsDummyData.xlsx\", sheet_name='LineItems')\n",
    "\n",
    "# Establish database connection\n",
    "config_file = ('../parameters/config.json')\n",
    "nt_conn = DBConnection(config_file)\n",
    "nt_conn.neutrino()\n",
    "nt_conn.insert_data(Customers, table_name=\"Customers\")\n",
    "nt_conn.insert_data(Orders, table_name=\"Orders\")\n",
    "nt_conn.insert_data(LineItems, table_name=\"LineItems\")\n",
    "nt_conn.neutrino()"
   ],
   "metadata": {
    "collapsed": false,
    "ExecuteTime": {
     "end_time": "2023-12-21T20:32:06.311071100Z",
     "start_time": "2023-12-21T20:32:03.473991700Z"
    }
   }
  },
  {
   "cell_type": "code",
   "execution_count": 1,
   "outputs": [
    {
     "name": "stdout",
     "output_type": "stream",
     "text": [
      "Number of rows in 'customers': 156\n",
      "Number of rows in 'orders': 200\n",
      "Number of rows in 'lineitems': 597\n"
     ]
    }
   ],
   "source": [
    "# Import Dependencies\n",
    "from lib.ConnectorDB import DBConnection\n",
    "import logging.handlers\n",
    "import json\n",
    "# Configure logging\n",
    "logging.config.fileConfig('../parameters/logs.ini', disable_existing_loggers=False)\n",
    "logger = logging.getLogger(__name__)\n",
    "logging.getLogger(\"paramiko\").setLevel(logging.WARNING)\n",
    "\n",
    "# Establish database connection\n",
    "config_file = ('../parameters/config.json')\n",
    "nt_conn = DBConnection(config_file)\n",
    "nt_conn.neutrino()\n",
    "\n",
    "# Extract data from the database\n",
    "customers = nt_conn.extract_data('''SELECT * FROM Customers''')\n",
    "orders = nt_conn.extract_data('''SELECT * FROM Orders''')\n",
    "lineitems = nt_conn.extract_data('''SELECT * FROM LineItems''')\n",
    "\n",
    "# Print the number of rows extracted for each DataFrame\n",
    "print(f\"Number of rows in 'customers': {customers.shape[0]}\")\n",
    "print(f\"Number of rows in 'orders': {orders.shape[0]}\")\n",
    "print(f\"Number of rows in 'lineitems': {lineitems.shape[0]}\")\n",
    "\n",
    "# Close the database connection\n",
    "nt_conn.close()"
   ],
   "metadata": {
    "collapsed": false,
    "ExecuteTime": {
     "end_time": "2023-12-21T21:02:43.643036Z",
     "start_time": "2023-12-21T21:02:42.602652300Z"
    }
   }
  }
 ],
 "metadata": {
  "kernelspec": {
   "display_name": "Python 3",
   "language": "python",
   "name": "python3"
  },
  "language_info": {
   "codemirror_mode": {
    "name": "ipython",
    "version": 2
   },
   "file_extension": ".py",
   "mimetype": "text/x-python",
   "name": "python",
   "nbconvert_exporter": "python",
   "pygments_lexer": "ipython2",
   "version": "2.7.6"
  }
 },
 "nbformat": 4,
 "nbformat_minor": 0
}
