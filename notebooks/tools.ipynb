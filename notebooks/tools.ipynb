{
 "cells": [
  {
   "cell_type": "code",
   "execution_count": null,
   "id": "initial_id",
   "metadata": {
    "collapsed": true
   },
   "outputs": [],
   "source": []
  },
  {
   "cell_type": "code",
   "execution_count": 2,
   "outputs": [
    {
     "name": "stdout",
     "output_type": "stream",
     "text": [
      "Hierarchical-Autonomous-Agent-Swarm\n",
      "├── .env\n",
      "├── .git\n",
      "│   ├── config\n",
      "│   ├── description\n",
      "│   ├── HEAD\n",
      "│   ├── hooks\n",
      "│   ├── index\n",
      "│   ├── info\n",
      "│   ├── objects\n",
      "│   └── refs\n",
      "├── .gitignore\n",
      "├── .idea\n",
      "│   ├── .gitignore\n",
      "│   ├── Hierarchical-Autonomous-Agent-Swarm.iml\n",
      "│   ├── inspectionProfiles\n",
      "│   ├── misc.xml\n",
      "│   ├── modules.xml\n",
      "│   ├── vcs.xml\n",
      "│   └── workspace.xml\n",
      "├── assets\n",
      "│   ├── Capture.PNG\n",
      "│   └── LLM-SQL.pptx\n",
      "├── data\n",
      "├── lib\n",
      "├── LICENSE.txt\n",
      "├── logs\n",
      "│   └── Process.log\n",
      "├── models\n",
      "├── notebooks\n",
      "│   ├── SQL_Agent.ipynb\n",
      "│   └── tools.ipynb\n",
      "├── parameters\n",
      "│   ├── config.json\n",
      "│   ├── config_template.json\n",
      "│   └── logs.ini\n",
      "├── README.md\n",
      "├── requirements\n",
      "├── setup.py\n",
      "└── venv\n",
      "    ├── .gitignore\n",
      "    ├── etc\n",
      "    ├── include\n",
      "    ├── Lib\n",
      "    ├── pyvenv.cfg\n",
      "    ├── Scripts\n",
      "    └── share\n",
      "\\n20 directories, 26 files\n"
     ]
    }
   ],
   "source": [
    "# -----------------------------------------------------------------------------------------------------------------------\n",
    "# Extract tree folder structure for current project\n",
    "# -----------------------------------------------------------------------------------------------------------------------\n",
    "\n",
    "from pathlib import Path\n",
    "from itertools import islice\n",
    "\n",
    "\n",
    "def tree(dir_path: Path, level: int = -1, limit_to_directories: bool = False,\n",
    "         length_limit: int = 1000):\n",
    "    # prefix components:\n",
    "    space = '    '\n",
    "    branch = '│   '\n",
    "    # pointers:\n",
    "    tee = '├── '\n",
    "    last = '└── '\n",
    "    \"\"\"Given a directory Path object print a visual tree structure\"\"\"\n",
    "    dir_path = Path(dir_path)  # accept string coerceable to Path\n",
    "    files = 0\n",
    "    directories = 0\n",
    "\n",
    "    def inner(dir_path: Path, prefix: str = '', level=-1):\n",
    "        nonlocal files, directories\n",
    "        if not level:\n",
    "            return  # 0, stop iterating\n",
    "        if limit_to_directories:\n",
    "            contents = [d for d in dir_path.iterdir() if d.is_dir()]\n",
    "        else:\n",
    "            contents = list(dir_path.iterdir())\n",
    "        pointers = [tee] * (len(contents) - 1) + [last]\n",
    "        for pointer, path in zip(pointers, contents):\n",
    "            if path.is_dir():\n",
    "                yield prefix + pointer + path.name\n",
    "                directories += 1\n",
    "                extension = branch if pointer == tee else space\n",
    "                yield from inner(path, prefix=prefix + extension, level=level - 1)\n",
    "            elif not limit_to_directories:\n",
    "                yield prefix + pointer + path.name\n",
    "                files += 1\n",
    "\n",
    "    print(dir_path.name)\n",
    "    iterator = inner(dir_path, level=level)\n",
    "    for line in islice(iterator, length_limit):\n",
    "        print(line)\n",
    "    if next(iterator, None):\n",
    "        print(f'... length_limit, {length_limit}, reached, counted:')\n",
    "    print(f'\\\\n{directories} directories' + (f', {files} files' if files else ''))\n",
    "\n",
    "tree(Path.home() / 'PycharmProjects/Hierarchical-Autonomous-Agent-Swarm', level=2)"
   ],
   "metadata": {
    "collapsed": false,
    "ExecuteTime": {
     "end_time": "2023-12-21T05:39:14.435400Z",
     "start_time": "2023-12-21T05:39:14.389575500Z"
    }
   },
   "id": "46dc19228bf70489"
  }
 ],
 "metadata": {
  "kernelspec": {
   "display_name": "Python 3",
   "language": "python",
   "name": "python3"
  },
  "language_info": {
   "codemirror_mode": {
    "name": "ipython",
    "version": 2
   },
   "file_extension": ".py",
   "mimetype": "text/x-python",
   "name": "python",
   "nbconvert_exporter": "python",
   "pygments_lexer": "ipython2",
   "version": "2.7.6"
  }
 },
 "nbformat": 4,
 "nbformat_minor": 5
}
