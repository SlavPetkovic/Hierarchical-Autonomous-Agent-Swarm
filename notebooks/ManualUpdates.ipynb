{
 "cells": [
  {
   "cell_type": "code",
   "execution_count": 19,
   "outputs": [],
   "source": [
    "########################################################################################################################\n",
    "# Loading data\n",
    "########################################################################################################################\n",
    "# Importing Dependencies with the function to improve performance of the process\n",
    "import pandas as pd\n",
    "from lib.etl import DatabaseETL\n",
    "etl = DatabaseETL('../parameters/config.json')\n",
    "\n",
    "Orders = pd.read_excel (\"../data/OrdersLineItemsDummyData.xlsx\", sheet_name='Orders')\n",
    "LineItems = pd.read_excel (\"../data/OrdersLineItemsDummyData.xlsx\", sheet_name='LineItems')\n",
    "Customers = pd.read_excel (\"../data/OrdersLineItemsDummyData.xlsx\", sheet_name='Customers')\n",
    "etl.write_to_sql(Orders, 'Orders')\n",
    "etl.write_to_sql(LineItems, 'LineItems')\n",
    "etl.write_to_sql(Customers, 'Customers')\n",
    "etl.close()"
   ],
   "metadata": {
    "collapsed": false,
    "ExecuteTime": {
     "end_time": "2023-12-19T00:53:07.520952900Z",
     "start_time": "2023-12-19T00:53:02.576873600Z"
    }
   }
  },
  {
   "cell_type": "code",
   "execution_count": 2,
   "outputs": [
    {
     "name": "stdout",
     "output_type": "stream",
     "text": [
      "   OrderId  CustomerId OrderNumber  Revenue       Date\n",
      "0        1          65    ORD10066  3021.19 2020-01-04\n",
      "1        2          17    ORD10017  5491.69 2020-02-02\n",
      "2        3          19    ORD10019  2222.17 2020-02-03\n",
      "3        4         120    ORD10142  5758.99 2020-02-22\n",
      "4        5          74    ORD10079  3568.99 2020-02-26\n",
      "5        6           6    ORD10006  1215.78 2020-02-27\n",
      "6        7          62    ORD10084  3125.25 2020-03-01\n",
      "7        8          32    ORD10032  4807.64 2020-03-04\n",
      "8        9         101    ORD10111  3531.01 2020-03-04\n",
      "9       10          16    ORD10016   798.37 2020-03-08\n",
      "   OrderId  LineItemId  PartCost PartNumber       Date\n",
      "0        1           1     84.83    PART286 2020-01-04\n",
      "1        1           2    382.10    PART273 2020-01-04\n",
      "2        1           3    777.99    PART188 2020-01-04\n",
      "3        1           4    718.67    PART217 2020-01-04\n",
      "4        2           5    479.86    PART105 2020-02-02\n",
      "5        2           6     56.81    PART126 2020-02-02\n",
      "6        2           7    141.34     PART28 2020-02-02\n",
      "7        2           8    577.72    PART175 2020-02-02\n",
      "8        3           9    187.57    PART233 2020-02-03\n",
      "9        3          10    358.44    PART291 2020-02-03\n",
      "   CustomerId  CustomerName\n",
      "0           1  Customer_118\n",
      "1           2  Customer_405\n",
      "2           3  Customer_100\n",
      "3           4  Customer_128\n",
      "4           5  Customer_460\n",
      "5           6  Customer_292\n",
      "6           7  Customer_325\n",
      "7           8  Customer_350\n",
      "8           9    Customer_1\n",
      "9          10  Customer_431\n"
     ]
    }
   ],
   "source": [
    "import pandas as pd\n",
    "from lib.etl import DatabaseETL\n",
    "etl = DatabaseETL('../parameters/config.json')\n",
    "order_df = etl.read_sql(\"SELECT TOP 10 * FROM Orders\")\n",
    "lineitems_df = etl.read_sql(\"SELECT TOP 10 * FROM LineItems\")\n",
    "customers_df = etl.read_sql(\"SELECT TOP 10 * FROM Customers\")\n",
    "etl.close()\n",
    "print(order_df)\n",
    "print(lineitems_df)\n",
    "print(customers_df)"
   ],
   "metadata": {
    "collapsed": false,
    "ExecuteTime": {
     "end_time": "2023-12-21T17:23:47.206800700Z",
     "start_time": "2023-12-21T17:23:45.413246600Z"
    }
   }
  }
 ],
 "metadata": {
  "kernelspec": {
   "display_name": "Python 3",
   "language": "python",
   "name": "python3"
  },
  "language_info": {
   "codemirror_mode": {
    "name": "ipython",
    "version": 2
   },
   "file_extension": ".py",
   "mimetype": "text/x-python",
   "name": "python",
   "nbconvert_exporter": "python",
   "pygments_lexer": "ipython2",
   "version": "2.7.6"
  }
 },
 "nbformat": 4,
 "nbformat_minor": 0
}
